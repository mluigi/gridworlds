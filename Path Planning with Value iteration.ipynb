{
 "cells": [
  {
   "cell_type": "code",
   "execution_count": 17,
   "metadata": {
    "collapsed": true
   },
   "outputs": [],
   "source": [
    "%matplotlib inline\n",
    "import numpy as np\n",
    "from PIL import Image\n",
    "from matplotlib import pyplot as plt\n",
    "from tqdm.auto import tqdm"
   ]
  },
  {
   "cell_type": "code",
   "execution_count": 18,
   "metadata": {
    "collapsed": false,
    "pycharm": {
     "name": "#%%\n"
    }
   },
   "outputs": [],
   "source": [
    "image_path = \"urban grids/maze2.png\""
   ]
  },
  {
   "cell_type": "code",
   "execution_count": 19,
   "metadata": {
    "collapsed": false,
    "pycharm": {
     "name": "#%%\n"
    }
   },
   "outputs": [],
   "source": [
    "BLACK = [0, 0, 0]\n",
    "WHITE = [255, 255, 255]\n",
    "BLUE = [0, 0, 255]\n",
    "GREEN = [0, 255, 0]\n",
    "YELLOW = [255, 255, 0]\n",
    "\n",
    "FREE_CELL = 0\n",
    "OBSTACLE = 1\n",
    "START = 2\n",
    "GOAL = 3"
   ]
  },
  {
   "cell_type": "code",
   "execution_count": 20,
   "metadata": {
    "collapsed": false,
    "pycharm": {
     "name": "#%%\n"
    }
   },
   "outputs": [],
   "source": [
    "is_using_distribution = False\n",
    "base_reward = -10\n",
    "antenna_reward = -1"
   ]
  },
  {
   "cell_type": "code",
   "execution_count": 21,
   "metadata": {
    "collapsed": false,
    "pycharm": {
     "name": "#%%\n"
    }
   },
   "outputs": [
    {
     "data": {
      "text/plain": "<matplotlib.image.AxesImage at 0x1db11bad970>"
     },
     "execution_count": 21,
     "metadata": {},
     "output_type": "execute_result"
    },
    {
     "data": {
      "text/plain": "<Figure size 432x288 with 1 Axes>",
      "image/png": "[encoded data removed]"
     },
     "metadata": {
      "needs_background": "light"
     },
     "output_type": "display_data"
    }
   ],
   "source": [
    "radius = 30\n",
    "sigma = 8\n",
    "mu = 0\n",
    "from scipy.stats import multivariate_normal\n",
    "\n",
    "gauss2d = multivariate_normal([mu, mu], [[sigma ** 2, 0], [0, sigma ** 2]])\n",
    "X, Y = np.meshgrid(np.arange(-radius, radius + 1), np.arange(-radius, radius + 1))\n",
    "pos = np.empty(X.shape + (2,))\n",
    "pos[:, :, 0] = X\n",
    "pos[:, :, 1] = Y\n",
    "antenna_distribution = gauss2d.pdf(pos)\n",
    "antenna_distribution -= antenna_distribution.min()\n",
    "antenna_distribution *= abs(base_reward - antenna_reward) / antenna_distribution.max()\n",
    "plt.imshow(antenna_distribution)"
   ]
  },
  {
   "cell_type": "code",
   "execution_count": 22,
   "metadata": {
    "collapsed": false,
    "pycharm": {
     "name": "#%%\n"
    }
   },
   "outputs": [
    {
     "data": {
      "text/plain": "<matplotlib.image.AxesImage at 0x1db11bd7d90>"
     },
     "execution_count": 22,
     "metadata": {},
     "output_type": "execute_result"
    },
    {
     "data": {
      "text/plain": "<Figure size 1152x1152 with 1 Axes>",
      "image/png": "[encoded data removed]"
     },
     "metadata": {
      "needs_background": "light"
     },
     "output_type": "display_data"
    },
    {
     "data": {
      "text/plain": "<Figure size 1152x1152 with 1 Axes>",
      "image/png": "[encoded data removed]"
     },
     "metadata": {
      "needs_background": "light"
     },
     "output_type": "display_data"
    }
   ],
   "source": [
    "image = Image.open(image_path)\n",
    "size = image.size\n",
    "data = np.asarray(image)\n",
    "fig, ax = plt.subplots(figsize=(16, 16))\n",
    "ax.axis('off')\n",
    "ax.set_title('Map')\n",
    "ax.imshow(data)\n",
    "cell_types = np.zeros(size, dtype=int)\n",
    "c = np.zeros(size, dtype=np.float32)\n",
    "antenna_indexes = []\n",
    "for x in range(size[0]):\n",
    "    for y in range(size[1]):\n",
    "        cell = data[x, y, :]\n",
    "        if np.array_equal(cell, BLACK):\n",
    "            cell_types[x, y] = OBSTACLE\n",
    "            c[x, y] = -100\n",
    "        elif np.array_equal(cell, WHITE):\n",
    "            cell_types[x, y] = FREE_CELL\n",
    "            c[x, y] = base_reward\n",
    "        elif np.array_equal(cell, GREEN):\n",
    "            cell_types[x, y] = START\n",
    "            c[x, y] = base_reward\n",
    "        elif np.array_equal(cell, BLUE):\n",
    "            cell_types[x, y] = GOAL\n",
    "            c[x, y] = 1.0\n",
    "        elif np.array_equal(cell, YELLOW):\n",
    "            if is_using_distribution:\n",
    "                cell_types[x, y] = OBSTACLE\n",
    "                antenna_indexes.append((x, y))\n",
    "                c[x, y] = -100\n",
    "            else:\n",
    "                c[x, y] = antenna_reward\n",
    "obstacle_map = np.where(cell_types == OBSTACLE, 0, 1).astype(np.float32)\n",
    "\n",
    "start = np.copy(cell_types)\n",
    "start = np.where(start != START, 0, start)\n",
    "start = np.where(start == START, 1, start).astype(np.float32)\n",
    "\n",
    "goal = np.copy(cell_types)\n",
    "goal = np.where(goal != GOAL, 0, goal)\n",
    "goal = np.where(goal == GOAL, 1, goal).astype(np.float32)\n",
    "\n",
    "if len(antenna_indexes) > 0:\n",
    "    map = np.zeros(c.shape)\n",
    "    for index in antenna_indexes:\n",
    "        x = index[0]\n",
    "        y = index[1]\n",
    "        x_min_radius = x if x <= radius else radius\n",
    "        x_max_radius = radius + 1 if x + radius + 1 < size[0] else size[0] - x\n",
    "        y_min_radius = y if y <= radius else radius\n",
    "        y_max_radius = radius + 1 if y + radius + 1 < size[1] else size[1] - y\n",
    "        distribution = antenna_distribution[radius - x_min_radius:radius + x_max_radius,\n",
    "                       radius - y_min_radius:radius + y_max_radius]\n",
    "        mask = obstacle_map[x - x_min_radius:x + x_max_radius, y - y_min_radius:y + y_max_radius]\n",
    "        c[x - x_min_radius:x + x_max_radius, y - y_min_radius:y + y_max_radius] += mask * distribution\n",
    "        map[x - x_min_radius:x + x_max_radius, y - y_min_radius:y + y_max_radius] += mask * distribution\n",
    "\n",
    "    c[goal == 1] = 1\n",
    "\n",
    "c[goal == 1] = 0\n",
    "fig, ax = plt.subplots(figsize=(16, 16))\n",
    "ax.axis('off')\n",
    "ax.set_title('Map with antenna rewards')\n",
    "ax.imshow(c)"
   ]
  },
  {
   "cell_type": "code",
   "execution_count": 23,
   "metadata": {
    "collapsed": false,
    "pycharm": {
     "name": "#%%\n"
    }
   },
   "outputs": [],
   "source": [
    "states = np.zeros(size, dtype=np.intp)\n",
    "cell_types = cell_types.astype(int)\n",
    "# states\n",
    "it = np.nditer(states, flags=['multi_index'])\n",
    "n_states = 1\n",
    "while not it.finished:\n",
    "    x, y = it.multi_index\n",
    "    if cell_types[x, y] == OBSTACLE:\n",
    "        states[x, y] = 1\n",
    "    elif cell_types[x, y] != GOAL:\n",
    "        n_states += 1\n",
    "        states[x, y] = n_states\n",
    "    else:\n",
    "        states[x, y] = 0\n",
    "\n",
    "    it.iternext()\n",
    "n_states += 1\n",
    "\n",
    "\n",
    "# actions\n",
    "def is_out_of_bounds(new_index):\n",
    "    return np.any(np.array(new_index) > (np.array(states.shape) - 1)) or np.any(np.array(new_index) < 0)\n",
    "\n",
    "\n",
    "moves = [\n",
    "    lambda x, y: (x, y) if is_out_of_bounds((x - 1, y - 1)) else (x - 1, y - 1),  # Up-Left\n",
    "    lambda x, y: (np.clip(x - 1, 0, size[0] - 1), y),  # Up\n",
    "    lambda x, y: (x, y) if is_out_of_bounds((x - 1, y + 1)) else (x - 1, y + 1),  # Up-Right\n",
    "    lambda x, y: (x, np.clip(y - 1, 0, size[0] - 1)),  # Left\n",
    "    lambda x, y: (x, y),  # Still\n",
    "    lambda x, y: (x, np.clip(y + 1, 0, size[0] - 1)),  # Right\n",
    "    lambda x, y: (x, y) if is_out_of_bounds((x + 1, y - 1)) else (x + 1, y - 1),  # Down-Left\n",
    "    lambda x, y: (np.clip(x + 1, 0, size[0] - 1), y),  # Down\n",
    "    lambda x, y: (x, y) if is_out_of_bounds((x + 1, y + 1)) else (x + 1, y + 1),  # Down-Right\n",
    "]\n",
    "n_actions = len(moves)\n",
    "current_step = 0\n",
    "gamma = 1.0\n",
    "theta = 0.000001"
   ]
  },
  {
   "cell_type": "code",
   "execution_count": 24,
   "metadata": {
    "collapsed": false,
    "pycharm": {
     "name": "#%%\n"
    }
   },
   "outputs": [],
   "source": [
    "def move(x, y, n_action):\n",
    "    if cell_types[x, y] == GOAL:\n",
    "        next_state = 0\n",
    "        reward = 0\n",
    "    elif cell_types[x, y] == OBSTACLE:\n",
    "        next_state = states[x, y]\n",
    "        reward = 0\n",
    "    else:\n",
    "        new_index = moves[n_action](x, y)\n",
    "\n",
    "        reward = c[new_index] if cell_types[new_index] != GOAL else c[x, y]\n",
    "        next_state = states[new_index] if reward >= -90 else states[x, y]\n",
    "    return int(next_state), reward"
   ]
  },
  {
   "cell_type": "code",
   "execution_count": 25,
   "metadata": {
    "collapsed": false,
    "pycharm": {
     "name": "#%%\n"
    }
   },
   "outputs": [],
   "source": [
    "finished = False\n",
    "\n",
    "\n",
    "def generator():\n",
    "    i = 1\n",
    "    while not finished:\n",
    "        yield i\n",
    "        i += 1"
   ]
  },
  {
   "cell_type": "code",
   "execution_count": 26,
   "metadata": {
    "collapsed": false,
    "pycharm": {
     "name": "#%%\n"
    }
   },
   "outputs": [],
   "source": [
    "def values_to_V(val):\n",
    "    vv = np.zeros(n_states)\n",
    "    it = np.nditer(states, flags=['multi_index'])\n",
    "    while not it.finished:\n",
    "        x, y = it.multi_index\n",
    "        vv[states[x, y]] = val[x, y]\n",
    "        it.iternext()\n",
    "    return vv\n"
   ]
  },
  {
   "cell_type": "code",
   "execution_count": 27,
   "outputs": [],
   "source": [
    "def gen_apm():\n",
    "    A = 1 / 18 * np.ones(8)\n",
    "    A[[0, 2]] = 1 / 6\n",
    "    A[1] = 1 / 3\n",
    "    apm = 1 / 18 * np.ones((9, 9))\n",
    "    apm[4] = 1 / 16 * np.ones(9)\n",
    "    apm[4, 4] = 1 / 2\n",
    "    for i in [0, 1, 2, 5, 8, 7, 6, 3]:\n",
    "        apm[i, [3, 5]] = A[[0, 4]]\n",
    "        apm[i, :3] = A[1:4]\n",
    "        apm[i, 6:] = A[5:8][::-1]\n",
    "        A = np.roll(A, 1)\n",
    "    return np.reshape(apm, (9, 3, 3))\n",
    "\n",
    "\n",
    "aps = gen_apm()\n",
    "ap_1 = np.where(aps == aps.max(0), 1, 0)"
   ],
   "metadata": {
    "collapsed": false,
    "pycharm": {
     "name": "#%%\n"
    }
   }
  },
  {
   "cell_type": "code",
   "execution_count": 28,
   "outputs": [],
   "source": [
    "def has_obstacles_nearby(x, y):\n",
    "    obstacles = []\n",
    "    for i in range(n_actions):\n",
    "        if cell_types[moves[i](x, y)] == 1:\n",
    "            obstacles.append(i)\n",
    "    return obstacles\n",
    "\n",
    "\n",
    "def state_trnstn_distr(x, y, action):\n",
    "    obstacles = obstacle_map[x - 1:x + 2, y - 1:y + 2]\n",
    "    ap = np.copy(aps[action])\n",
    "    n_obs = 9 - np.count_nonzero(obstacles)\n",
    "    if n_obs:\n",
    "        prob = np.sum(ap[np.nonzero(obstacles == 0)])\n",
    "        ap *= obstacles\n",
    "        ap[1, 1] += prob\n",
    "    return ap\n"
   ],
   "metadata": {
    "collapsed": false,
    "pycharm": {
     "name": "#%%\n"
    }
   }
  },
  {
   "cell_type": "code",
   "execution_count": 29,
   "outputs": [],
   "source": [
    "next_states = np.zeros((n_actions, size[0], size[1]), dtype=np.intp)\n",
    "probs = np.zeros((n_actions, size[0], size[1], 3, 3))\n",
    "iter = np.nditer(states, flags=['multi_index'])\n",
    "while not iter.finished:\n",
    "    x, y = iter.multi_index\n",
    "    if cell_types[x, y] == OBSTACLE:\n",
    "        iter.iternext()\n",
    "        continue\n",
    "    for a in range(n_actions):\n",
    "        next_state, _ = move(x, y, a)\n",
    "        next_states[a, x, y] = next_state\n",
    "        probs[a, x, y, :, :] = state_trnstn_distr(x, y, a)\n",
    "    iter.iternext()"
   ],
   "metadata": {
    "collapsed": false,
    "pycharm": {
     "name": "#%%\n"
    }
   }
  },
  {
   "cell_type": "code",
   "execution_count": 30,
   "metadata": {
    "collapsed": false,
    "pycharm": {
     "name": "#%%\n"
    }
   },
   "outputs": [
    {
     "data": {
      "text/plain": "t: 0it [00:00, ?it/s]",
      "application/vnd.jupyter.widget-view+json": {
       "version_major": 2,
       "version_minor": 0,
       "model_id": "eb87a1a424b24cd78b0ecda267975799"
      }
     },
     "metadata": {},
     "output_type": "display_data"
    }
   ],
   "source": [
    "V = np.zeros(n_states)\n",
    "finished = False\n",
    "p_bar = tqdm(generator(), desc=\"t\")\n",
    "policy = np.zeros(n_states)\n",
    "for t in p_bar:\n",
    "    delta = 0.0\n",
    "    it = np.nditer(states, flags=['multi_index'])\n",
    "    while not it.finished:\n",
    "        x, y = it.multi_index\n",
    "        if cell_types[x, y] == OBSTACLE or cell_types[x, y] == GOAL:\n",
    "            it.iternext()\n",
    "            continue\n",
    "        s = states[x, y]\n",
    "        v = V[s]\n",
    "        actions = c[x, y] + gamma * np.sum(V[next_states[:, x - 1:x + 2, y - 1:y + 2]] * probs[:, x, y, :, :], (1, 2))\n",
    "        V[s] = actions.max()\n",
    "        delta = max(delta, abs(v - V[s]))\n",
    "        best_action = np.argmax(actions)\n",
    "        policy[s] = best_action\n",
    "        it.iternext()\n",
    "    p_bar.set_description(f\"{delta}\")\n",
    "    if delta < theta:\n",
    "        finished = True\n",
    "\n"
   ]
  },
  {
   "cell_type": "code",
   "execution_count": 31,
   "outputs": [],
   "source": [
    "# finished = False\n",
    "# p_bar = tqdm(generator(), desc=\"t\")\n",
    "# policy = np.zeros(n_states)\n",
    "# V = np.zeros(n_states)\n",
    "# for t in p_bar:\n",
    "#     delta = 0.0\n",
    "#     it = np.nditer(states, flags=['multi_index'])\n",
    "#     while not it.finished:\n",
    "#         x, y = it.multi_index\n",
    "#         if cell_types[x, y] == OBSTACLE or cell_types[x, y] == GOAL:\n",
    "#             it.iternext()\n",
    "#             continue\n",
    "#         s = states[x, y]\n",
    "#         v = V[s]\n",
    "#         actions = np.zeros(n_actions)\n",
    "#         for a in range(n_actions):\n",
    "#             next_state = next_states[a, x - 1:x + 2, y - 1:y + 2]\n",
    "#             reward = c[x, y]\n",
    "#             actions[a] = reward + gamma * np.sum(V[next_state] * probs[a, x, y, :, :])\n",
    "#\n",
    "#         V[s] = actions.max()\n",
    "#         delta = max(delta, abs(v - V[s]))\n",
    "#         best_action = np.argmax(actions)\n",
    "#         policy[s] = best_action\n",
    "#         it.iternext()\n",
    "#     p_bar.set_description(f\"{delta}\")\n",
    "#     if delta < theta:\n",
    "#         finished = True"
   ],
   "metadata": {
    "collapsed": false,
    "pycharm": {
     "name": "#%%\n"
    }
   }
  },
  {
   "cell_type": "code",
   "execution_count": 32,
   "outputs": [],
   "source": [
    "arrws = [\n",
    "    '↖', '↑', '↗',\n",
    "    '←', ' ', '→',\n",
    "    '↙', '↓', '↘',\n",
    "]\n",
    "\n",
    "arrows = [[\"\" for _ in range(size[0])] for _ in range(size[0])]\n",
    "it = np.nditer(states, flags=['multi_index'])\n",
    "while not it.finished:\n",
    "    x, y = it.multi_index\n",
    "    s = states[x, y]\n",
    "    best_action = int(policy[states[x, y]])\n",
    "    arrows[x][y] = arrws[best_action] if cell_types[x, y] in [FREE_CELL, START] else 'o' if cell_types[\n",
    "                                                                                                x, y] == OBSTACLE else \"G\"\n",
    "    it.iternext()\n",
    "\n",
    "# from PIL import Image, ImageDraw, ImageFont\n",
    "#\n",
    "# pixel_size = 50\n",
    "# font_size = 36\n",
    "# font_color = (0, 0, 0)\n",
    "# img = Image.new('RGB', (pixel_size * size[0], pixel_size * size[1]), color=(255, 255, 255))\n",
    "# unicode_font = ImageFont.truetype(\"DejaVuSans.ttf\", font_size)\n",
    "# canvas = ImageDraw.Draw(img)\n",
    "# for x, row in enumerate(arrows):\n",
    "#     for y, value in enumerate(row):\n",
    "#         if value == \"o\":\n",
    "#             canvas.rectangle(\n",
    "#                     [((y + 1) * pixel_size, (x + 1) * pixel_size),\n",
    "#                      ((y + 1) * pixel_size - pixel_size, (x + 1) * pixel_size - pixel_size)],\n",
    "#                     fill=font_color)\n",
    "#         else:\n",
    "#             canvas.text(((y + 1) * pixel_size - font_size, (x + 1) * pixel_size - font_size), arrows[x][y],\n",
    "#                         font=unicode_font,\n",
    "#                         fill=font_color)\n",
    "#\n",
    "# fig, ax = plt.subplots(figsize=(16, 16))\n",
    "# ax.axis('off')\n",
    "# ax.set_title('Policy')\n",
    "# ax.imshow(img)\n",
    "# img.save(\"policy.png\")"
   ],
   "metadata": {
    "collapsed": false,
    "pycharm": {
     "name": "#%%\n"
    }
   }
  },
  {
   "cell_type": "code",
   "execution_count": 33,
   "outputs": [
    {
     "data": {
      "text/plain": "<matplotlib.image.AxesImage at 0x1db129cd8b0>"
     },
     "execution_count": 33,
     "metadata": {},
     "output_type": "execute_result"
    },
    {
     "data": {
      "text/plain": "<Figure size 1152x1152 with 1 Axes>",
      "image/png": "[encoded data removed]"
     },
     "metadata": {
      "needs_background": "light"
     },
     "output_type": "display_data"
    }
   ],
   "source": [
    "current_position = np.transpose(np.nonzero(cell_types == START))[0]\n",
    "path = np.zeros(obstacle_map.shape)\n",
    "while True:\n",
    "    x = current_position[0]\n",
    "    y = current_position[1]\n",
    "    state = int(states[x, y])\n",
    "    if path[x, y] == 1 or state == 0:\n",
    "        path[x, y] = 1\n",
    "        break\n",
    "    path[x, y] = 1\n",
    "    current_position = moves[int(policy[state])](x, y)\n",
    "fig, ax = plt.subplots(figsize=(16, 16))\n",
    "ax.axis('off')\n",
    "ax.set_title('Map with path')\n",
    "ax.imshow(obstacle_map + path)"
   ],
   "metadata": {
    "collapsed": false,
    "pycharm": {
     "name": "#%%\n"
    }
   }
  },
  {
   "cell_type": "code",
   "execution_count": 34,
   "outputs": [],
   "source": [
    "ss = V[np.intp(states)]"
   ],
   "metadata": {
    "collapsed": false,
    "pycharm": {
     "name": "#%%\n"
    }
   }
  }
 ],
 "metadata": {
  "interpreter": {
   "hash": "77531c7dfb738d0f1bdbfcd08ec775173202977194703e34fd1b47f04a9605f6"
  },
  "kernelspec": {
   "display_name": "Python 3.8.5 64-bit (conda)",
   "name": "python3"
  },
  "language_info": {
   "codemirror_mode": {
    "name": "ipython",
    "version": 3
   },
   "file_extension": ".py",
   "mimetype": "text/x-python",
   "name": "python",
   "nbconvert_exporter": "python",
   "pygments_lexer": "ipython3",
   "version": "3.8.5"
  }
 },
 "nbformat": 4,
 "nbformat_minor": 0
}