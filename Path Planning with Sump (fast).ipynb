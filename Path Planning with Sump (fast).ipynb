{
 "cells": [
  {
   "cell_type": "code",
   "execution_count": 2,
   "metadata": {
    "collapsed": true
   },
   "outputs": [],
   "source": [
    "import os\n",
    "%matplotlib inline\n",
    "import math\n",
    "import numpy as np\n",
    "from PIL import Image, ImageDraw\n",
    "from matplotlib import pyplot as plt, cm\n",
    "from mpl_toolkits.axes_grid1 import make_axes_locatable\n",
    "from tqdm.notebook import tqdm"
   ]
  },
  {
   "cell_type": "code",
   "execution_count": 3,
   "metadata": {
    "collapsed": false,
    "pycharm": {
     "name": "#%%\n"
    }
   },
   "outputs": [],
   "source": [
    "image_path = \"urban grids/maze2.png\"\n",
    "append = \"maze-rew\"\n",
    "output_folder = \"output/\"\n",
    "output_name = f\"sp-{append}\"\n",
    "if not os.path.exists(output_folder+output_name):\n",
    "    os.makedirs(output_folder+output_name)"
   ]
  },
  {
   "cell_type": "code",
   "execution_count": 4,
   "metadata": {
    "collapsed": false,
    "pycharm": {
     "name": "#%%\n"
    }
   },
   "outputs": [],
   "source": [
    "BLACK = [0, 0, 0]\n",
    "WHITE = [255, 255, 255]\n",
    "BLUE = [0, 0, 255]\n",
    "GREEN = [0, 255, 0]\n",
    "YELLOW = [255, 255, 0]\n",
    "\n",
    "FREE_CELL = 0\n",
    "OBSTACLE = 1\n",
    "START = 2\n",
    "GOAL = 3"
   ]
  },
  {
   "cell_type": "code",
   "execution_count": 5,
   "metadata": {
    "collapsed": false,
    "pycharm": {
     "name": "#%%\n"
    }
   },
   "outputs": [],
   "source": [
    "is_using_distribution = True\n",
    "base_reward = -5\n",
    "antenna_reward = -1"
   ]
  },
  {
   "cell_type": "code",
   "execution_count": 6,
   "metadata": {
    "collapsed": false,
    "pycharm": {
     "name": "#%%\n"
    }
   },
   "outputs": [
    {
     "data": {
      "text/plain": "<matplotlib.image.AxesImage at 0x2697224f670>"
     },
     "execution_count": 6,
     "metadata": {},
     "output_type": "execute_result"
    },
    {
     "data": {
      "text/plain": "<Figure size 432x288 with 1 Axes>",
      "image/png": "[encoded data removed]"
     },
     "metadata": {
      "needs_background": "light"
     },
     "output_type": "display_data"
    }
   ],
   "source": [
    "radius = 15\n",
    "sigma = 8\n",
    "mu = 0\n",
    "from scipy.stats import multivariate_normal\n",
    "\n",
    "gauss2d = multivariate_normal([mu, mu], [[sigma ** 2, 0], [0, sigma ** 2]])\n",
    "X, Y = np.meshgrid(np.arange(-radius, radius + 1), np.arange(-radius, radius + 1))\n",
    "pos = np.empty(X.shape + (2,))\n",
    "pos[:, :, 0] = X\n",
    "pos[:, :, 1] = Y\n",
    "antenna_distribution = gauss2d.pdf(pos)\n",
    "antenna_distribution -= antenna_distribution.min()\n",
    "antenna_distribution *= abs(base_reward - antenna_reward) / antenna_distribution.max()\n",
    "plt.imshow(antenna_distribution)"
   ]
  },
  {
   "cell_type": "code",
   "execution_count": 7,
   "metadata": {
    "collapsed": false,
    "pycharm": {
     "name": "#%%\n"
    }
   },
   "outputs": [
    {
     "data": {
      "text/plain": "<Figure size 1152x1152 with 1 Axes>",
      "image/png": "[encoded data removed]"
     },
     "metadata": {
      "needs_background": "light"
     },
     "output_type": "display_data"
    },
    {
     "data": {
      "text/plain": "<Figure size 1152x1152 with 2 Axes>",
      "image/png": "[encoded data removed]"
     },
     "metadata": {
      "needs_background": "light"
     },
     "output_type": "display_data"
    }
   ],
   "source": [
    "image = Image.open(image_path)\n",
    "size = image.size\n",
    "data = np.asarray(image)\n",
    "fig, ax = plt.subplots(figsize=(16, 16))\n",
    "ax.axis('off')\n",
    "ax.set_title('Map')\n",
    "ax.imshow(data)\n",
    "cell_types = np.zeros(size, dtype=int)\n",
    "c = np.zeros(size, dtype=np.float32)\n",
    "antenna_indexes = []\n",
    "for x in range(size[0]):\n",
    "    for y in range(size[1]):\n",
    "        cell = data[x, y, :]\n",
    "        if np.array_equal(cell, BLACK):\n",
    "            cell_types[x, y] = OBSTACLE\n",
    "            c[x, y] = -100\n",
    "        elif np.array_equal(cell, WHITE):\n",
    "            cell_types[x, y] = FREE_CELL\n",
    "            c[x, y] = base_reward\n",
    "        elif np.array_equal(cell, GREEN):\n",
    "            cell_types[x, y] = START\n",
    "            c[x, y] = base_reward\n",
    "        elif np.array_equal(cell, BLUE):\n",
    "            cell_types[x, y] = GOAL\n",
    "            c[x, y] = 1.0\n",
    "        elif np.array_equal(cell, YELLOW):\n",
    "            if is_using_distribution:\n",
    "                # cell_types[x, y] = OBSTACLE\n",
    "                antenna_indexes.append((x, y))\n",
    "                # c[x, y] = -100\n",
    "                c[x, y] = base_reward\n",
    "            else:\n",
    "                c[x, y] = antenna_reward\n",
    "obstacle_map = np.where(cell_types == OBSTACLE, 0, 1).astype(np.float32)\n",
    "\n",
    "start = np.copy(cell_types)\n",
    "start = np.where(start != START, 0, start)\n",
    "start = np.where(start == START, 1, start).astype(np.float32)\n",
    "\n",
    "goal = np.copy(cell_types)\n",
    "goal = np.where(goal != GOAL, 0, goal)\n",
    "goal = np.where(goal == GOAL, 1, goal).astype(np.float32)\n",
    "\n",
    "if len(antenna_indexes) > 0:\n",
    "    map = np.zeros(c.shape)\n",
    "    for index in antenna_indexes:\n",
    "        x = index[0]\n",
    "        y = index[1]\n",
    "        x_min_radius = x if x <= radius else radius\n",
    "        x_max_radius = radius + 1 if x + radius + 1 < size[0] else size[0] - x\n",
    "        y_min_radius = y if y <= radius else radius\n",
    "        y_max_radius = radius + 1 if y + radius + 1 < size[1] else size[1] - y\n",
    "        distribution = antenna_distribution[radius - x_min_radius:radius + x_max_radius,\n",
    "                       radius - y_min_radius:radius + y_max_radius]\n",
    "        mask = obstacle_map[x - x_min_radius:x + x_max_radius, y - y_min_radius:y + y_max_radius]\n",
    "        c[x - x_min_radius:x + x_max_radius, y - y_min_radius:y + y_max_radius] += mask * distribution\n",
    "        map[x - x_min_radius:x + x_max_radius, y - y_min_radius:y + y_max_radius] += mask * distribution\n",
    "\n",
    "c[goal == 1] = 0\n",
    "fig, ax = plt.subplots(figsize=(16, 16))\n",
    "cmap = cm.get_cmap('plasma').copy()\n",
    "cmap.set_under(\"black\")\n",
    "ax.axis('off')\n",
    "im = ax.matshow(c, cmap=cmap, vmin=base_reward-0.2)\n",
    "divider = make_axes_locatable(ax)\n",
    "cax = divider.append_axes(\"right\", size=\"5%\", pad=0.05)\n",
    "plt.colorbar(im, cax=cax).ax.tick_params(labelsize=30)\n",
    "\n",
    "plt.savefig(f\"{output_folder}/{output_name}/{output_name}_reward-map.png\", bbox_inches='tight', dpi=300)"
   ]
  },
  {
   "cell_type": "code",
   "execution_count": 8,
   "metadata": {
    "collapsed": false,
    "pycharm": {
     "name": "#%%\n"
    }
   },
   "outputs": [],
   "source": [
    "states = np.zeros(size, dtype=np.intp)\n",
    "cell_types = cell_types.astype(int)\n",
    "# states\n",
    "it = np.nditer(states, flags=['multi_index'])\n",
    "n_states = 1\n",
    "while not it.finished:\n",
    "    x, y = it.multi_index\n",
    "    if cell_types[x, y] == OBSTACLE:\n",
    "        states[x, y] = 1\n",
    "    elif cell_types[x, y] != GOAL:\n",
    "        n_states += 1\n",
    "        states[x, y] = n_states\n",
    "    else:\n",
    "        states[x, y] = 0\n",
    "\n",
    "    it.iternext()\n",
    "n_states += 1\n",
    "\n",
    "\n",
    "# actions\n",
    "def is_out_of_bounds(new_index):\n",
    "    return np.any(np.array(new_index) > (np.array(states.shape) - 1)) or np.any(np.array(new_index) < 0)\n",
    "\n",
    "\n",
    "moves = [\n",
    "    lambda x, y: (x, y) if is_out_of_bounds((x - 1, y - 1)) else (x - 1, y - 1),  # Up-Left\n",
    "    lambda x, y: (np.clip(x - 1, 0, size[0] - 1), y),  # Up\n",
    "    lambda x, y: (x, y) if is_out_of_bounds((x - 1, y + 1)) else (x - 1, y + 1),  # Up-Right\n",
    "    lambda x, y: (x, np.clip(y - 1, 0, size[0] - 1)),  # Left\n",
    "    lambda x, y: (x, y),  # Still\n",
    "    lambda x, y: (x, np.clip(y + 1, 0, size[0] - 1)),  # Right\n",
    "    lambda x, y: (x, y) if is_out_of_bounds((x + 1, y - 1)) else (x + 1, y - 1),  # Down-Left\n",
    "    lambda x, y: (np.clip(x + 1, 0, size[0] - 1), y),  # Down\n",
    "    lambda x, y: (x, y) if is_out_of_bounds((x + 1, y + 1)) else (x + 1, y + 1),  # Down-Right\n",
    "]\n",
    "n_actions = len(moves)\n",
    "current_step = 0\n",
    "gamma = 1.0\n",
    "theta = 1e-6"
   ]
  },
  {
   "cell_type": "code",
   "execution_count": 9,
   "metadata": {
    "collapsed": false,
    "pycharm": {
     "name": "#%%\n"
    }
   },
   "outputs": [],
   "source": [
    "def move(x, y, n_action):\n",
    "    if cell_types[x, y] == GOAL:\n",
    "        next_state = 0\n",
    "        reward = 0\n",
    "    elif cell_types[x, y] == OBSTACLE:\n",
    "        next_state = 1\n",
    "        reward = -100\n",
    "    else:\n",
    "        new_index = moves[n_action](x, y)\n",
    "        next_state = states[new_index] if cell_types[new_index] != OBSTACLE else states[x, y]\n",
    "        reward = -100 if cell_types[new_index] == OBSTACLE else c[x,y] if n_action in [1,3,5,7] else math.sqrt(2) * c[x,y]\n",
    "    return int(next_state), reward"
   ]
  },
  {
   "cell_type": "code",
   "execution_count": 10,
   "metadata": {
    "collapsed": false,
    "pycharm": {
     "name": "#%%\n"
    }
   },
   "outputs": [],
   "source": [
    "finished = False\n",
    "\n",
    "\n",
    "def generator():\n",
    "    i = 1\n",
    "    while not finished:\n",
    "        yield i\n",
    "        i += 1"
   ]
  },
  {
   "cell_type": "code",
   "execution_count": 11,
   "metadata": {
    "collapsed": false,
    "pycharm": {
     "name": "#%%\n"
    }
   },
   "outputs": [],
   "source": [
    "def values_to_V(val):\n",
    "    vv = np.zeros(n_states)\n",
    "    it = np.nditer(states, flags=['multi_index'])\n",
    "    while not it.finished:\n",
    "        x, y = it.multi_index\n",
    "        vv[states[x, y]] = val[x, y]\n",
    "        it.iternext()\n",
    "    return vv\n"
   ]
  },
  {
   "cell_type": "code",
   "execution_count": 12,
   "outputs": [],
   "source": [
    "def gen_apm():\n",
    "    A = 1 / 18 * np.ones(8)\n",
    "    A[[0, 2]] = 1 / 6\n",
    "    A[1] = 1 / 3\n",
    "    apm = 1 / 18 * np.ones((9, 9))\n",
    "    apm[4] = 1 / 16 * np.ones(9)\n",
    "    apm[4, 4] = 1 / 2\n",
    "    for i in [0, 1, 2, 5, 8, 7, 6, 3]:\n",
    "        apm[i, [3, 5]] = A[[0, 4]]\n",
    "        apm[i, :3] = A[1:4]\n",
    "        apm[i, 6:] = A[5:8][::-1]\n",
    "        A = np.roll(A, 1)\n",
    "    return np.reshape(apm, (9, 3, 3))\n",
    "\n",
    "\n",
    "aps = gen_apm()\n",
    "ap_1 = np.where(aps == aps.max(0), 1, 0)"
   ],
   "metadata": {
    "collapsed": false,
    "pycharm": {
     "name": "#%%\n"
    }
   }
  },
  {
   "cell_type": "code",
   "execution_count": 13,
   "outputs": [],
   "source": [
    "def has_obstacles_nearby(x, y):\n",
    "    obstacles = []\n",
    "    for i in range(n_actions):\n",
    "        if cell_types[moves[i](x, y)] == 1:\n",
    "            obstacles.append(i)\n",
    "    return obstacles\n",
    "\n",
    "\n",
    "def state_trnstn_distr(x, y, action):\n",
    "    obstacles = obstacle_map[x - 1:x + 2, y - 1:y + 2]\n",
    "    ap = np.copy(aps[action])\n",
    "    n_obs = 9 - np.count_nonzero(obstacles)\n",
    "    if n_obs:\n",
    "        prob = np.sum(ap[np.nonzero(obstacles == 0)])\n",
    "        ap *= obstacles\n",
    "        ap[1, 1] += prob\n",
    "    return ap"
   ],
   "metadata": {
    "collapsed": false,
    "pycharm": {
     "name": "#%%\n"
    }
   }
  },
  {
   "cell_type": "code",
   "execution_count": 14,
   "outputs": [
    {
     "name": "stderr",
     "output_type": "stream",
     "text": [
      "<ipython-input-14-5a78e2e3525c>:18: RuntimeWarning: divide by zero encountered in log\n",
      "  probs = np.log(probs)\n"
     ]
    }
   ],
   "source": [
    "next_states = np.zeros((size[0], size[1], 3, 3), dtype=np.intp)\n",
    "probs = np.zeros((n_actions, size[0], size[1], 3, 3))\n",
    "rewards = np.zeros(next_states.shape)\n",
    "iter = np.nditer(states, flags=['multi_index'])\n",
    "while not iter.finished:\n",
    "    x, y = iter.multi_index\n",
    "\n",
    "    nexts = np.zeros(n_actions)\n",
    "    rews = np.zeros(n_actions)\n",
    "    for a in range(n_actions):\n",
    "        nexts[a], rews[a] = move(x, y, a)\n",
    "        if x in range(1, size[1] - 1) and y in range(1, size[0] - 1):\n",
    "            probs[a, x, y, :, :] = state_trnstn_distr(x, y, a)\n",
    "\n",
    "    rewards[x, y, :, :] = rews.reshape((3,3))\n",
    "    next_states[x, y, :, :] = np.reshape(nexts, (3, 3))\n",
    "    iter.iternext()\n",
    "probs = np.log(probs)\n",
    "probs = np.where(probs == -np.inf, -100, probs)"
   ],
   "metadata": {
    "collapsed": false,
    "pycharm": {
     "name": "#%%\n"
    }
   }
  },
  {
   "cell_type": "code",
   "execution_count": 15,
   "metadata": {
    "collapsed": false,
    "pycharm": {
     "name": "#%%\n"
    }
   },
   "outputs": [
    {
     "data": {
      "text/plain": "t: 0it [00:00, ?it/s]",
      "application/vnd.jupyter.widget-view+json": {
       "version_major": 2,
       "version_minor": 0,
       "model_id": "8e380ee929954bb795d04f5a18e50d77"
      }
     },
     "metadata": {},
     "output_type": "display_data"
    }
   ],
   "source": [
    "finished = False\n",
    "p_bar = tqdm(generator(), desc=\"t\")\n",
    "values = np.zeros(obstacle_map.shape)\n",
    "policies = np.zeros((1,) + obstacle_map.shape)\n",
    "policies2 = np.zeros((1, n_actions,) + obstacle_map.shape)\n",
    "policy = np.zeros(obstacle_map.shape)\n",
    "policy2 = np.zeros((n_actions,) + obstacle_map.shape)\n",
    "Vs = np.zeros((1, n_states))\n",
    "V = np.zeros(n_states)\n",
    "diffs = np.zeros(1)\n",
    "\n",
    "for t in p_bar:\n",
    "    delta = 0.0\n",
    "    Q = np.log(np.sum(np.exp(gamma * V[next_states] + rewards + probs), (3, 4)))\n",
    "    values = np.log(np.sum(np.exp(Q), 0))\n",
    "    prev_values = np.copy(V[states])\n",
    "    prev_values = np.where(prev_values == -np.inf, 0, prev_values)\n",
    "    V = values_to_V(values)\n",
    "    # V[0] = 0\n",
    "    V = V - V.max()\n",
    "    V[1] = 0\n",
    "    Vs = np.append(Vs, [V], 0)\n",
    "\n",
    "    values = V[states]\n",
    "    delta = max(delta, np.max(np.abs(prev_values - np.where(values == -np.inf, 0, values))))\n",
    "    diffs = np.append(diffs, delta)\n",
    "    policy = np.argmax(Q, 0)\n",
    "    policy2 = np.copy(Q)\n",
    "    if policy.shape == obstacle_map.shape:\n",
    "        policies = np.append(policies, [policy], axis=0)\n",
    "        policies2 = np.append(policies2, [policy2], axis=0)\n",
    "    p_bar.set_description(f\"{delta}\")\n",
    "    if delta < theta:\n",
    "        finished = True"
   ]
  },
  {
   "cell_type": "code",
   "execution_count": 16,
   "outputs": [
    {
     "data": {
      "text/plain": "Text(0, 0.5, '\\\\delta')"
     },
     "execution_count": 16,
     "metadata": {},
     "output_type": "execute_result"
    },
    {
     "name": "stderr",
     "output_type": "stream",
     "text": [
      "findfont: Font family ['sans-serif'] not found. Falling back to DejaVu Sans.\n",
      "findfont: Generic family 'sans-serif' not found because none of the following families were found: Helvetica\n"
     ]
    },
    {
     "data": {
      "text/plain": "<Figure size 1152x1152 with 1 Axes>",
      "image/png": "[encoded data removed]"
     },
     "metadata": {
      "needs_background": "light"
     },
     "output_type": "display_data"
    }
   ],
   "source": [
    "fig, ax = plt.subplots(figsize=(16, 16))\n",
    "plt.rcParams.update({\n",
    "    \"text.usetex\": True,\n",
    "    \"font.family\": \"sans-serif\",\n",
    "    \"font.sans-serif\": [\"Helvetica\"]})\n",
    "ax.plot(range(policies.shape[0] - 1), diffs[1:])\n",
    "ax.set_xlabel(\"t\")\n",
    "ax.set_ylabel(\"\\delta\")"
   ],
   "metadata": {
    "collapsed": false,
    "pycharm": {
     "name": "#%%\n"
    }
   }
  },
  {
   "cell_type": "code",
   "execution_count": 17,
   "outputs": [],
   "source": [
    "def arrowedLine(im, ptA, ptB, width=1, color=(0, 0, 0)):\n",
    "    \"\"\"Draw line from ptA to ptB with arrowhead at ptB\"\"\"\n",
    "    # Get drawing context\n",
    "    draw = ImageDraw.Draw(im)\n",
    "    # Draw the line without arrows\n",
    "\n",
    "\n",
    "    # Now work out the arrowhead\n",
    "    # = it will be a triangle with one vertex at ptB\n",
    "    # - it will start at 95% of the length of the line\n",
    "    # - it will extend 8 pixels either side of the line\n",
    "    x0, y0 = ptA\n",
    "    x1, y1 = ptB\n",
    "    # Now we can work out the x,y coordinates of the bottom of the arrowhead triangle\n",
    "    xb = 0.8 * (x1 - x0) + x0\n",
    "    yb = 0.8 * (y1 - y0) + y0\n",
    "    draw.line([ptA, (xb,yb)], width=width, fill=color)\n",
    "    # Work out the other two vertices of the triangle\n",
    "    # Check if line is vertical\n",
    "    if x0 == x1:\n",
    "        vtx0 = (xb - 5, yb)\n",
    "        vtx1 = (xb + 5, yb)\n",
    "    # Check if line is horizontal\n",
    "    elif y0 == y1:\n",
    "        vtx0 = (xb, yb + 5)\n",
    "        vtx1 = (xb, yb - 5)\n",
    "    else:\n",
    "        alpha = math.atan2(y1 - y0, x1 - x0) - 90 * math.pi / 180\n",
    "        a = 8 * math.cos(alpha)\n",
    "        b = 8 * math.sin(alpha)\n",
    "        vtx0 = (xb + a, yb + b)\n",
    "        vtx1 = (xb - a, yb - b)\n",
    "\n",
    "    #draw.point((xb,yb), fill=(255,0,0))    # DEBUG: draw point of base in red - comment out draw.polygon() below if using this line\n",
    "    #im.save('DEBUG-base.png')              # DEBUG: save\n",
    "\n",
    "    # Now draw the arrowhead triangle\n",
    "    draw.polygon([vtx0, vtx1, ptB], fill=color)\n",
    "    return im"
   ],
   "metadata": {
    "collapsed": false,
    "pycharm": {
     "name": "#%%\n"
    }
   }
  },
  {
   "cell_type": "code",
   "execution_count": 18,
   "outputs": [
    {
     "data": {
      "text/plain": "<Figure size 1152x1152 with 2 Axes>",
      "image/png": "[encoded data removed]"
     },
     "metadata": {
      "needs_background": "light"
     },
     "output_type": "display_data"
    },
    {
     "data": {
      "text/plain": "<Figure size 1152x1152 with 2 Axes>",
      "image/png": "[encoded data removed]"
     },
     "metadata": {
      "needs_background": "light"
     },
     "output_type": "display_data"
    },
    {
     "data": {
      "text/plain": "<Figure size 1152x1152 with 2 Axes>",
      "image/png": "[encoded data removed]"
     },
     "metadata": {
      "needs_background": "light"
     },
     "output_type": "display_data"
    },
    {
     "data": {
      "text/plain": "<Figure size 1152x1152 with 2 Axes>",
      "image/png": "[encoded data removed]"
     },
     "metadata": {
      "needs_background": "light"
     },
     "output_type": "display_data"
    }
   ],
   "source": [
    "arrws = [\n",
    "    '↖', '↑', '↗',\n",
    "    '←', ' ', '→',\n",
    "    '↙', '↓', '↘',\n",
    "]\n",
    "pixel_size = 200\n",
    "font_color = (0, 0, 0)\n",
    "\n",
    "\n",
    "def center(x, y):\n",
    "    return np.array((x + 0.5, y + 0.5))\n",
    "\n",
    "rel_pos = 0.45\n",
    "diag_pos = rel_pos * math.sin(math.pi / 4)\n",
    "\n",
    "points = [\n",
    "    lambda x, y: (-diag_pos, -diag_pos),  # Up-Left\n",
    "    lambda x, y: (0.0, -rel_pos),  # Up\n",
    "    lambda x, y: (diag_pos, -diag_pos),  # Up-Right\n",
    "    lambda x, y: (-rel_pos, 0.0),  # Left\n",
    "    lambda x, y: (0.0, 0.0),  # Still\n",
    "    lambda x, y: (rel_pos, 0.0),  # Right\n",
    "    lambda x, y: (-diag_pos, diag_pos),  # Down-Left\n",
    "    lambda x, y: (0.0, rel_pos),  # Down\n",
    "    lambda x, y: (diag_pos, diag_pos),  # Down-Right\n",
    "]\n",
    "\n",
    "\n",
    "def pol2(polic):\n",
    "    img = Image.new('RGB', (pixel_size * size[0], pixel_size * size[1]), color=(255, 255, 255))\n",
    "    it = np.nditer(states, flags=['multi_index'])\n",
    "    canvas = ImageDraw.Draw(img)\n",
    "    while not it.finished:\n",
    "        x, y = it.multi_index\n",
    "        if cell_types[x, y] == OBSTACLE:\n",
    "            canvas.rectangle(\n",
    "                    [((y + 1) * pixel_size, (x + 1) * pixel_size),\n",
    "                     ((y + 1) * pixel_size - pixel_size, (x + 1) * pixel_size - pixel_size)],\n",
    "                    fill=font_color)\n",
    "        elif cell_types[x, y] == GOAL:\n",
    "            canvas.rectangle(\n",
    "                    [((y + 1) * pixel_size, (x + 1) * pixel_size),\n",
    "                     ((y + 1) * pixel_size - pixel_size, (x + 1) * pixel_size - pixel_size)],\n",
    "                    fill=tuple(BLUE))\n",
    "\n",
    "        else:\n",
    "            if cell_types[x, y] == START:\n",
    "                canvas.rectangle(\n",
    "                        [((y + 1) * pixel_size, (x + 1) * pixel_size),\n",
    "                         ((y + 1) * pixel_size - pixel_size, (x + 1) * pixel_size - pixel_size)],\n",
    "                        fill=tuple(GREEN))\n",
    "            best_actions = np.argwhere(polic[:, x, y] == np.amax(polic[:, x, y]))\n",
    "            for a in best_actions.flatten().tolist():\n",
    "                cnt = center(y, x)\n",
    "                b = center(y, x)+np.array(points[int(a)](y,x))\n",
    "\n",
    "                img = arrowedLine(img, tuple(cnt*pixel_size), tuple(b*pixel_size), width=5,\n",
    "                                  color=font_color)\n",
    "        it.iternext()\n",
    "    return img\n",
    "\n",
    "for i in range(policies.shape[0] - 1):\n",
    "    space = np.linspace(0, policies.shape[0] - 2, 4, dtype=int)\n",
    "    if i in space:\n",
    "        pol2(policies2[:-1][i]).save(f\"{output_folder}/{output_name}/{output_name}_policy_{i}.png\")\n",
    "        fig, ax = plt.subplots(figsize=(16, 16))\n",
    "        cmap = cm.get_cmap('plasma').copy()\n",
    "        cmap.set_over(\"black\")\n",
    "        ax.axis('off')\n",
    "        vv = np.copy(Vs[:-1][i])\n",
    "        vv[1] = 0\n",
    "        im = ax.matshow(vv[states] + (1 - obstacle_map), cmap=cmap, vmax=0.01)\n",
    "        # for (i, j), z in np.ndenumerate(Vs[i+1][states]):\n",
    "        #     ax.text(j, i, '{:0.1f}'.format(z), ha='center', va='center')\n",
    "        divider = make_axes_locatable(ax)\n",
    "        cax = divider.append_axes(\"right\", size=\"5%\", pad=0.05)\n",
    "        plt.colorbar(im, cax=cax).ax.tick_params(labelsize=30)\n",
    "        plt.savefig(f\"{output_folder}/{output_name}/{output_name}_values_{i}.png\", bbox_inches='tight', dpi=300)\n"
   ],
   "metadata": {
    "collapsed": false,
    "pycharm": {
     "name": "#%%\n"
    }
   }
  },
  {
   "cell_type": "code",
   "execution_count": 19,
   "outputs": [
    {
     "data": {
      "text/plain": "<matplotlib.image.AxesImage at 0x26907a0f220>"
     },
     "execution_count": 19,
     "metadata": {},
     "output_type": "execute_result"
    },
    {
     "data": {
      "text/plain": "<Figure size 1152x1152 with 1 Axes>",
      "image/png": "[encoded data removed]"
     },
     "metadata": {
      "needs_background": "light"
     },
     "output_type": "display_data"
    }
   ],
   "source": [
    "current_position = np.transpose(np.nonzero(cell_types == START))[0]\n",
    "path = np.zeros(obstacle_map.shape)\n",
    "while True:\n",
    "    x = current_position[0]\n",
    "    y = current_position[1]\n",
    "    state = int(states[x, y])\n",
    "    if path[x, y] == 1 or state == 0:\n",
    "        path[x, y] = 1\n",
    "        break\n",
    "    path[x, y] = 1\n",
    "    current_position = moves[int(policy[x, y])](x, y)\n",
    "fig, ax = plt.subplots(figsize=(16, 16))\n",
    "ax.axis('off')\n",
    "ax.set_title('Map with path')\n",
    "ax.imshow(obstacle_map + path)"
   ],
   "metadata": {
    "collapsed": false,
    "pycharm": {
     "name": "#%%\n"
    }
   }
  },
  {
   "cell_type": "code",
   "execution_count": 20,
   "outputs": [
    {
     "data": {
      "text/plain": "<Figure size 1152x1152 with 1 Axes>",
      "image/png": "[encoded data removed]"
     },
     "metadata": {
      "needs_background": "light"
     },
     "output_type": "display_data"
    }
   ],
   "source": [
    "map_with_path = obstacle_map + path\n",
    "pixel_size = 100\n",
    "img = Image.new('RGB', (pixel_size * size[0], pixel_size * size[1]), color=(255, 255, 255))\n",
    "canvas = ImageDraw.Draw(img)\n",
    "for x, row in enumerate(map_with_path):\n",
    "    for y, value in enumerate(row):\n",
    "        if cell_types[x,y] == GOAL:\n",
    "            canvas.rectangle(\n",
    "                    [((y + 1) * pixel_size, (x + 1) * pixel_size),\n",
    "                     ((y + 1) * pixel_size - pixel_size, (x + 1) * pixel_size - pixel_size)],\n",
    "                    fill=tuple(BLUE))\n",
    "        elif cell_types[x,y] == START:\n",
    "            canvas.rectangle(\n",
    "                    [((y + 1) * pixel_size, (x + 1) * pixel_size),\n",
    "                     ((y + 1) * pixel_size - pixel_size, (x + 1) * pixel_size - pixel_size)],\n",
    "                    fill=tuple(GREEN))\n",
    "        elif int(value) == 0:\n",
    "            canvas.rectangle(\n",
    "                    [((y + 1) * pixel_size, (x + 1) * pixel_size),\n",
    "                     ((y + 1) * pixel_size - pixel_size, (x + 1) * pixel_size - pixel_size)],\n",
    "                    fill=tuple(BLACK))\n",
    "        elif int(value) == 1:\n",
    "            canvas.rectangle(\n",
    "                    [((y + 1) * pixel_size, (x + 1) * pixel_size),\n",
    "                     ((y + 1) * pixel_size - pixel_size, (x + 1) * pixel_size - pixel_size)],\n",
    "                    fill=tuple(WHITE))\n",
    "        elif int(value) == 2:\n",
    "            canvas.rectangle(\n",
    "                    [((y + 1) * pixel_size, (x + 1) * pixel_size),\n",
    "                     ((y + 1) * pixel_size - pixel_size, (x + 1) * pixel_size - pixel_size)],\n",
    "                    fill=(0,150,0))\n",
    "fig, ax = plt.subplots(figsize=(16, 16))\n",
    "ax.axis('off')\n",
    "ax.imshow(img)\n",
    "img.save(f\"{output_folder}/{output_name}/{output_name}.png\")"
   ],
   "metadata": {
    "collapsed": false,
    "pycharm": {
     "name": "#%%\n"
    }
   }
  }
 ],
 "metadata": {
  "interpreter": {
   "hash": "77531c7dfb738d0f1bdbfcd08ec775173202977194703e34fd1b47f04a9605f6"
  },
  "kernelspec": {
   "display_name": "Python 3.8.5 64-bit (conda)",
   "name": "python3"
  },
  "language_info": {
   "codemirror_mode": {
    "name": "ipython",
    "version": 3
   },
   "file_extension": ".py",
   "mimetype": "text/x-python",
   "name": "python",
   "nbconvert_exporter": "python",
   "pygments_lexer": "ipython3",
   "version": "3.8.5"
  }
 },
 "nbformat": 4,
 "nbformat_minor": 0
}